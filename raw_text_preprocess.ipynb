{
 "cells": [
  {
   "cell_type": "code",
   "execution_count": 1,
   "metadata": {},
   "outputs": [],
   "source": [
    "# Copyright Namu Park, 2020, Yonsei Digital Analytics"
   ]
  },
  {
   "cell_type": "code",
   "execution_count": 89,
   "metadata": {},
   "outputs": [],
   "source": [
    "import numpy as np\n",
    "import pandas as pd\n",
    "import requests\n",
    "import selenium\n",
    "import time\n",
    "import random\n",
    "import glob\n",
    "import re\n",
    "\n",
    "from selenium.webdriver.common.keys import Keys\n",
    "from selenium.webdriver.common.action_chains import ActionChains\n",
    "from tqdm import tqdm_notebook\n",
    "from bs4 import BeautifulSoup"
   ]
  },
  {
   "cell_type": "code",
   "execution_count": 90,
   "metadata": {},
   "outputs": [
    {
     "data": {
      "text/plain": [
       "['./34 paper prepocessed updated\\\\01  A data-driven drug repositioning framework discovered a potential therapeutic agent targeting COVID-19.txt',\n",
       " './34 paper prepocessed updated\\\\02  AI-aided design of novel targeted covalent inhibitors against SARS-CoV-2.txt',\n",
       " './34 paper prepocessed updated\\\\03  Anti-HCV, nucleotide inhibitors, repurposing against COVID-19.txt',\n",
       " './34 paper prepocessed updated\\\\04  Atazanavir inhibits SARS-CoV-2 replication and pro-inflammatory cytokine production.txt',\n",
       " './34 paper prepocessed updated\\\\05  Clinical trials on drug repositioning for COVID-19 treatment.txt']"
      ]
     },
     "execution_count": 90,
     "metadata": {},
     "output_type": "execute_result"
    }
   ],
   "source": [
    "file_path = glob.glob(\"./34 paper prepocessed updated/*.txt\")\n",
    "file_path[:5]"
   ]
  },
  {
   "cell_type": "code",
   "execution_count": null,
   "metadata": {},
   "outputs": [],
   "source": []
  },
  {
   "cell_type": "code",
   "execution_count": 78,
   "metadata": {},
   "outputs": [],
   "source": [
    "k = 1\n",
    "for x in file_path:\n",
    "    with open(x,'r',encoding='iso-8859-1') as f :\n",
    "        a = f.readlines()\n",
    "    a = [x for x in a if 'preprint' not in x and 'copyright' not in x and 'page' not in x]\n",
    "    a = [x for x in a if x.replace('\\n','').isdigit()==False]\n",
    "    a = [x for x in a if x.replace('\\n','').replace('of','').replace(' ','').replace('.','').isdigit()==False]\n",
    "    a = [x.replace('\f",
    "','') for x in a]\n",
    "    new = []\n",
    "    for y in a:\n",
    "        if y not in new:\n",
    "            new.append(y)\n",
    "        else:\n",
    "            pass\n",
    "    \n",
    "    with open('./34 paper raw preprocessed/preprocessed {} '.format(k)+x.split('  ')[1], 'w', encoding='iso-8859-1') as f:\n",
    "        for preprocessed_sentence in new:\n",
    "            f.write( preprocessed_sentence)\n",
    "    k+=1"
   ]
  },
  {
   "cell_type": "code",
   "execution_count": null,
   "metadata": {},
   "outputs": [],
   "source": []
  },
  {
   "cell_type": "markdown",
   "metadata": {},
   "source": [
    "###### 아래는 preprocessed2"
   ]
  },
  {
   "cell_type": "code",
   "execution_count": 91,
   "metadata": {},
   "outputs": [],
   "source": [
    "def preprocess(seq):\n",
    "    seq = str(seq.replace('\"','')).replace(r'\\xa0',' ')\n",
    "\n",
    "    seq = re.sub('[^\\n\\#0-9A-Za-z/-]', ' ',seq) # /, - 등 기록지 특성에 맞춰 전처리. \n",
    "#     print(seq)\n",
    "    seq = re.sub(' +', ' ',seq)\n",
    "\n",
    "#     seq = re.sub(' -','', seq) # 숫자사이에 들어가있는 - 을 삭제\n",
    "#     seq = seq.lower()\n",
    "#     print(seq)\n",
    "    seq = seq.strip()\n",
    "    \n",
    "    seq = seq.split(' ')\n",
    "#     print(seq)\n",
    "    # 길이가 1이거나 숫자만 들어가있는 토큰은 빼버림\n",
    "    # 숫자랑 문자랑 # 만 남겼는데 다 숫자면 그건 제외 (년도 같은 의미 없는애들일 것 같아서)\n",
    "    \n",
    "    preprocess_seq = ''\n",
    "    \n",
    "    for token in seq:  \n",
    "        \n",
    "        if len(token)==1:\n",
    "            continue\n",
    "        elif re.sub('[^a-z0-9]','',token)=='':\n",
    "            continue\n",
    "        elif re.sub('[^\\#0-9a-z]','',token).isdigit():\n",
    "            continue\n",
    "        elif ('follow' in token) or ('f/u' in token):\n",
    "            continue\n",
    "        else:\n",
    "            preprocess_seq+=token+' '\n",
    "    preprocess_seq = preprocess_seq.strip()\n",
    "    return preprocess_seq"
   ]
  },
  {
   "cell_type": "code",
   "execution_count": 92,
   "metadata": {},
   "outputs": [],
   "source": [
    "k = 1\n",
    "for x in file_path:\n",
    "    with open(x,'r',encoding='iso-8859-1') as f :\n",
    "        a = f.readlines()\n",
    "    a = [x for x in a if 'preprint' not in x.lower() and 'copyright' not in x.lower() and 'page' not in x.lower()]\n",
    "#     a = [x for x in a if x.replace('\\n','').isdigit()==False]\n",
    "#     a = [x for x in a if x.replace('of','').replace(' ','').replace('.','').isdigit()==False]\n",
    "#     a = [x.replace('\f",
    "','') for x in a]\n",
    "    a = [preprocess(x) for x in a]\n",
    "    a = [x for x in a if '//doi' not in x.lower() and '//www' not in x.lower()and '//pubchem' not in x.lower() and '//github' not in x.lower()]\n",
    "#     '//www', '//pubchem', '//github'\n",
    "    new = []\n",
    "    for y in a:\n",
    "        if y not in new or y==['\\n']:\n",
    "            new.append(y)\n",
    "        else:\n",
    "            pass\n",
    "    \n",
    "    with open('./34 paper preprocessed2/preprocessed {} '.format(k)+x.split('  ')[1], 'w', encoding='utf-8-sig') as f:\n",
    "        for preprocessed_sentence in new:\n",
    "            f.write(preprocessed_sentence+'\\n')\n",
    "    k+=1"
   ]
  },
  {
   "cell_type": "code",
   "execution_count": 68,
   "metadata": {},
   "outputs": [
    {
     "data": {
      "text/plain": [
       "False"
      ]
     },
     "execution_count": 68,
     "metadata": {},
     "output_type": "execute_result"
    }
   ],
   "source": [
    "' 2 '.isdigit()"
   ]
  },
  {
   "cell_type": "code",
   "execution_count": 82,
   "metadata": {},
   "outputs": [
    {
     "name": "stdout",
     "output_type": "stream",
     "text": [
      "asdadasd\n",
      "asdad\n",
      "\n",
      "asdad\n"
     ]
    }
   ],
   "source": [
    "print(preprocess('asdadasd\\nasdad\\n\\nasdad'))"
   ]
  },
  {
   "cell_type": "code",
   "execution_count": null,
   "metadata": {},
   "outputs": [],
   "source": []
  }
 ],
 "metadata": {
  "kernelspec": {
   "display_name": "Python 3",
   "language": "python",
   "name": "python3"
  },
  "language_info": {
   "codemirror_mode": {
    "name": "ipython",
    "version": 3
   },
   "file_extension": ".py",
   "mimetype": "text/x-python",
   "name": "python",
   "nbconvert_exporter": "python",
   "pygments_lexer": "ipython3",
   "version": "3.7.4"
  }
 },
 "nbformat": 4,
 "nbformat_minor": 2
}
